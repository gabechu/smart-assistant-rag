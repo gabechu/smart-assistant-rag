{
 "cells": [
  {
   "cell_type": "code",
   "execution_count": 1,
   "metadata": {},
   "outputs": [
    {
     "name": "stderr",
     "output_type": "stream",
     "text": [
      "/Users/gchu/Library/Caches/pypoetry/virtualenvs/smart-assistant-rag-AHMMfw7i-py3.11/lib/python3.11/site-packages/tqdm/auto.py:21: TqdmWarning: IProgress not found. Please update jupyter and ipywidgets. See https://ipywidgets.readthedocs.io/en/stable/user_install.html\n",
      "  from .autonotebook import tqdm as notebook_tqdm\n"
     ]
    }
   ],
   "source": [
    "from src.evaluation.retrieval_evaluator import RetrievalEvaluator\n",
    "from src.pipelines.rag_pipeline import RagPipeline\n",
    "from src.retrieval.vector_search import VectorSearch\n",
    "from src.vector_models.hugging_face_vector_model import HuggingFaceVectorModel\n",
    "from src.vector_models.openai_vector_model import OpenaiVectorModel"
   ]
  },
  {
   "cell_type": "code",
   "execution_count": 2,
   "metadata": {},
   "outputs": [
    {
     "name": "stdout",
     "output_type": "stream",
     "text": [
      "[{'Precision@k': 0.5, 'Recall@k': 1.0, 'MRR': 0.5}]\n"
     ]
    }
   ],
   "source": [
    "vector_model = HuggingFaceVectorModel(model_name=\"sentence-transformers/all-MiniLM-L6-v2\")\n",
    "vector_search = VectorSearch(vector_model, top_k=20)\n",
    "vector_search.documents = RagPipeline.load_data_in_chunks(100)\n",
    "\n",
    "evaluator = RetrievalEvaluator(vector_search)\n",
    "results = evaluator.evaluate(2)\n",
    "print(results)"
   ]
  },
  {
   "cell_type": "code",
   "execution_count": 3,
   "metadata": {},
   "outputs": [
    {
     "name": "stderr",
     "output_type": "stream",
     "text": [
      "huggingface/tokenizers: The current process just got forked, after parallelism has already been used. Disabling parallelism to avoid deadlocks...\n",
      "To disable this warning, you can either:\n",
      "\t- Avoid using `tokenizers` before the fork if possible\n",
      "\t- Explicitly set the environment variable TOKENIZERS_PARALLELISM=(true | false)\n"
     ]
    },
    {
     "name": "stdout",
     "output_type": "stream",
     "text": [
      "[{'Precision@k': 0.5, 'Recall@k': 1.0, 'MRR': 1.0}]\n"
     ]
    }
   ],
   "source": [
    "vector_model = OpenaiVectorModel(model_name=\"text-embedding-3-small\")\n",
    "vector_search = VectorSearch(vector_model, top_k=20)\n",
    "vector_search.documents = RagPipeline.load_data_in_chunks(100)\n",
    "\n",
    "evaluator = RetrievalEvaluator(vector_search)\n",
    "results = evaluator.evaluate(2)\n",
    "print(results)"
   ]
  },
  {
   "cell_type": "code",
   "execution_count": null,
   "metadata": {},
   "outputs": [],
   "source": []
  }
 ],
 "metadata": {
  "kernelspec": {
   "display_name": "smart-assistant-rag-AHMMfw7i-py3.11",
   "language": "python",
   "name": "python3"
  },
  "language_info": {
   "codemirror_mode": {
    "name": "ipython",
    "version": 3
   },
   "file_extension": ".py",
   "mimetype": "text/x-python",
   "name": "python",
   "nbconvert_exporter": "python",
   "pygments_lexer": "ipython3",
   "version": "3.11.9"
  }
 },
 "nbformat": 4,
 "nbformat_minor": 2
}
