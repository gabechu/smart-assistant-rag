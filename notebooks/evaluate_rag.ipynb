{
 "cells": [
  {
   "cell_type": "code",
   "execution_count": 3,
   "metadata": {},
   "outputs": [],
   "source": [
    "from src.evaluation.rag_evaluator import RagEvaluator\n",
    "from src.pipelines.hugging_face_retrieval_openai_generation_pipeline import HuggingFaceRetrievalOpenaiGenerationPipeline\n",
    "from src.pipelines.openai_retrieval_openai_generation_pipeline import OpenaiRetrievalOpenaiGenerationPipeline"
   ]
  },
  {
   "cell_type": "code",
   "execution_count": 2,
   "metadata": {},
   "outputs": [
    {
     "name": "stderr",
     "output_type": "stream",
     "text": [
      "huggingface/tokenizers: The current process just got forked, after parallelism has already been used. Disabling parallelism to avoid deadlocks...\n",
      "To disable this warning, you can either:\n",
      "\t- Avoid using `tokenizers` before the fork if possible\n",
      "\t- Explicitly set the environment variable TOKENIZERS_PARALLELISM=(true | false)\n"
     ]
    },
    {
     "name": "stdout",
     "output_type": "stream",
     "text": [
      "Query: Do you collect my personal information? If yes, can I opt out?\n",
      "Reference: We collect your personal information to provide our services, process claims, offer relevant products, and conduct market research. Opt-out of product offers by calling 1300 360 529 or visiting www.allianz.com.au. Without your information, we may be unable to offer our services, including claim settlements.\n",
      "Generated: Yes, we do collect your personal information as part of providing our insurance services, as indicated in the documents regarding communication and policy management.\n",
      "\n",
      "If you wish to opt-out or seek more details on how your personal information is managed, you can refer to the privacy section of your insurance documentation. Specifically, page 87 of your policy booklet provides information on how to manage the privacy of your personal information. This section will guide you on the steps to take if you want to opt-out or have any concerns about how your information is used.\n",
      "\n",
      "For further assistance, you can also directly contact our customer service team, as they can provide detailed, specific guidance tailored to your needs.\n",
      "Relevance Score (BLEU): 0.0327\n",
      "Diversity Score: 0.8898\n",
      "Speed Score (Time): 5.0187 seconds\n"
     ]
    }
   ],
   "source": [
    "rag = HuggingFaceRetrievalOpenaiGenerationPipeline()\n",
    "evaluator = RagEvaluator(rag)\n",
    "evaluator.evaluate_responses()"
   ]
  },
  {
   "cell_type": "code",
   "execution_count": 4,
   "metadata": {},
   "outputs": [
    {
     "name": "stdout",
     "output_type": "stream",
     "text": [
      "Query: Do you collect my personal information? If yes, can I opt out?\n",
      "Reference: We collect your personal information to provide our services, process claims, offer relevant products, and conduct market research. Opt-out of product offers by calling 1300 360 529 or visiting www.allianz.com.au. Without your information, we may be unable to offer our services, including claim settlements.\n",
      "Generated: From the retrieved documents, it doesn't seem that NRMA Insurance explicitly outlines in these excerpts whether they collect personal information or detailed procedures for opting out of such collection. However, Document 9 mentions \"privacy of your personal information\" (page 88), which suggests that NRMA Insurance likely has privacy policies in place regarding the collection and use of personal information. \n",
      "\n",
      "Furthermore, businesses operating in Australia, such as NRMA Insurance, typically comply with privacy laws that require them to disclose what personal information they collect and how it is used, as well as provide individuals with rights regarding their personal information, including options to opt out.\n",
      "\n",
      "For specific information about NRMA Insurance's policies on personal information collection and opt-out options, I would recommend visiting their official website or directly contacting their customer service at 132 132. They should be able to provide comprehensive details about their privacy policy and the steps you can take if you wish to opt out.\n",
      "Relevance Score (BLEU): 0.0000\n",
      "Diversity Score: 0.9430\n",
      "Speed Score (Time): 8.5139 seconds\n"
     ]
    }
   ],
   "source": [
    "rag = OpenaiRetrievalOpenaiGenerationPipeline()\n",
    "evaluator = RagEvaluator(rag)\n",
    "evaluator.evaluate_responses()"
   ]
  },
  {
   "cell_type": "code",
   "execution_count": null,
   "metadata": {},
   "outputs": [],
   "source": []
  }
 ],
 "metadata": {
  "kernelspec": {
   "display_name": "smart-assistant-rag-AHMMfw7i-py3.11",
   "language": "python",
   "name": "python3"
  },
  "language_info": {
   "codemirror_mode": {
    "name": "ipython",
    "version": 3
   },
   "file_extension": ".py",
   "mimetype": "text/x-python",
   "name": "python",
   "nbconvert_exporter": "python",
   "pygments_lexer": "ipython3",
   "version": "3.11.9"
  }
 },
 "nbformat": 4,
 "nbformat_minor": 2
}
